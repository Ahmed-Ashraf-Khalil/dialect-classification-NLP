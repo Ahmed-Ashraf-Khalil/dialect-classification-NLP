{
 "cells": [
  {
   "cell_type": "markdown",
   "metadata": {},
   "source": [
    "# Downloading arabic NLP tools"
   ]
  },
  {
   "cell_type": "code",
   "execution_count": 3,
   "metadata": {},
   "outputs": [
    {
     "name": "stdout",
     "output_type": "stream",
     "text": [
      "Collecting transformers==4.12.2\n",
      "  Downloading transformers-4.12.2-py3-none-any.whl (3.1 MB)\n",
      "Requirement already satisfied: regex!=2019.12.17 in c:\\users\\zd\\anaconda3\\lib\\site-packages (from transformers==4.12.2) (2020.10.15)\n",
      "Requirement already satisfied: filelock in c:\\users\\zd\\anaconda3\\lib\\site-packages (from transformers==4.12.2) (3.0.12)\n",
      "Requirement already satisfied: packaging>=20.0 in c:\\users\\zd\\anaconda3\\lib\\site-packages (from transformers==4.12.2) (20.8)\n",
      "Requirement already satisfied: requests in c:\\users\\zd\\anaconda3\\lib\\site-packages (from transformers==4.12.2) (2.26.0)\n",
      "Requirement already satisfied: numpy>=1.17 in c:\\users\\zd\\anaconda3\\lib\\site-packages (from transformers==4.12.2) (1.19.3)\n",
      "Requirement already satisfied: tqdm>=4.27 in c:\\users\\zd\\anaconda3\\lib\\site-packages (from transformers==4.12.2) (4.55.1)\n",
      "Requirement already satisfied: importlib-metadata in c:\\users\\zd\\anaconda3\\lib\\site-packages (from transformers==4.12.2) (2.0.0)\n",
      "Requirement already satisfied: pyyaml>=5.1 in c:\\users\\zd\\anaconda3\\lib\\site-packages (from transformers==4.12.2) (5.3.1)\n",
      "Requirement already satisfied: dataclasses in c:\\users\\zd\\anaconda3\\lib\\site-packages (from transformers==4.12.2) (0.7)\n",
      "Collecting huggingface-hub>=0.0.17\n",
      "  Downloading huggingface_hub-0.4.0-py3-none-any.whl (67 kB)\n",
      "Requirement already satisfied: typing-extensions>=3.7.4.3 in c:\\users\\zd\\anaconda3\\lib\\site-packages (from huggingface-hub>=0.0.17->transformers==4.12.2) (3.7.4.3)\n",
      "Collecting packaging>=20.0\n",
      "  Downloading packaging-21.3-py3-none-any.whl (40 kB)\n",
      "Requirement already satisfied: pyparsing!=3.0.5,>=2.0.2 in c:\\users\\zd\\anaconda3\\lib\\site-packages (from packaging>=20.0->transformers==4.12.2) (2.4.7)\n",
      "Collecting tokenizers<0.11,>=0.10.1\n",
      "  Downloading tokenizers-0.10.3-cp36-cp36m-win_amd64.whl (2.0 MB)\n",
      "Requirement already satisfied: zipp>=0.5 in c:\\users\\zd\\anaconda3\\lib\\site-packages (from importlib-metadata->transformers==4.12.2) (3.4.0)\n",
      "Requirement already satisfied: charset-normalizer~=2.0.0 in c:\\users\\zd\\anaconda3\\lib\\site-packages (from requests->transformers==4.12.2) (2.0.4)\n",
      "Requirement already satisfied: certifi>=2017.4.17 in c:\\users\\zd\\anaconda3\\lib\\site-packages (from requests->transformers==4.12.2) (2021.5.30)\n",
      "Requirement already satisfied: urllib3<1.27,>=1.21.1 in c:\\users\\zd\\appdata\\roaming\\python\\python36\\site-packages (from requests->transformers==4.12.2) (1.26.6)\n",
      "Requirement already satisfied: idna<4,>=2.5 in c:\\users\\zd\\anaconda3\\lib\\site-packages (from requests->transformers==4.12.2) (2.10)\n",
      "Collecting sacremoses\n",
      "  Downloading sacremoses-0.0.47-py2.py3-none-any.whl (895 kB)\n",
      "Requirement already satisfied: joblib in c:\\users\\zd\\anaconda3\\lib\\site-packages (from sacremoses->transformers==4.12.2) (1.0.0)\n",
      "Requirement already satisfied: six in c:\\users\\zd\\anaconda3\\lib\\site-packages (from sacremoses->transformers==4.12.2) (1.12.0)\n",
      "Requirement already satisfied: click in c:\\users\\zd\\anaconda3\\lib\\site-packages (from sacremoses->transformers==4.12.2) (7.1.2)\n",
      "Installing collected packages: packaging, tokenizers, sacremoses, huggingface-hub, transformers\n",
      "  Attempting uninstall: packaging\n",
      "    Found existing installation: packaging 20.8\n",
      "    Uninstalling packaging-20.8:\n",
      "      Successfully uninstalled packaging-20.8\n",
      "Successfully installed huggingface-hub-0.4.0 packaging-21.3 sacremoses-0.0.47 tokenizers-0.10.3 transformers-4.12.2\n",
      "Collecting farasapy==0.0.14\n",
      "  Downloading farasapy-0.0.14-py3-none-any.whl (11 kB)\n",
      "Requirement already satisfied: requests in c:\\users\\zd\\anaconda3\\lib\\site-packages (from farasapy==0.0.14) (2.26.0)\n",
      "Requirement already satisfied: tqdm in c:\\users\\zd\\anaconda3\\lib\\site-packages (from farasapy==0.0.14) (4.55.1)\n",
      "Requirement already satisfied: certifi>=2017.4.17 in c:\\users\\zd\\anaconda3\\lib\\site-packages (from requests->farasapy==0.0.14) (2021.5.30)\n",
      "Requirement already satisfied: idna<4,>=2.5 in c:\\users\\zd\\anaconda3\\lib\\site-packages (from requests->farasapy==0.0.14) (2.10)\n",
      "Requirement already satisfied: urllib3<1.27,>=1.21.1 in c:\\users\\zd\\appdata\\roaming\\python\\python36\\site-packages (from requests->farasapy==0.0.14) (1.26.6)\n",
      "Requirement already satisfied: charset-normalizer~=2.0.0 in c:\\users\\zd\\anaconda3\\lib\\site-packages (from requests->farasapy==0.0.14) (2.0.4)\n",
      "Installing collected packages: farasapy\n",
      "Successfully installed farasapy-0.0.14\n",
      "Collecting pyarabic==0.6.14"
     ]
    },
    {
     "name": "stderr",
     "output_type": "stream",
     "text": [
      "ERROR: pip's dependency resolver does not currently take into account all the packages that are installed. This behaviour is the source of the following dependency conflicts.\n",
      "vaex-arrow 0.4.2 requires pyarrow>=0.15, but you have pyarrow 0.10.0 which is incompatible.\n",
      "botocore 1.18.18 requires urllib3<1.26,>=1.20, but you have urllib3 1.26.6 which is incompatible.\n"
     ]
    },
    {
     "name": "stdout",
     "output_type": "stream",
     "text": [
      "\n",
      "  Downloading PyArabic-0.6.14-py3-none-any.whl (126 kB)\n",
      "Collecting six>=1.14.0\n",
      "  Using cached six-1.16.0-py2.py3-none-any.whl (11 kB)\n",
      "Installing collected packages: six, pyarabic\n",
      "  Attempting uninstall: six\n",
      "    Found existing installation: six 1.12.0\n",
      "    Uninstalling six-1.12.0:\n",
      "      Successfully uninstalled six-1.12.0\n",
      "Successfully installed pyarabic-0.6.14 six-1.16.0\n"
     ]
    },
    {
     "name": "stderr",
     "output_type": "stream",
     "text": [
      "Cloning into 'arabert'...\n"
     ]
    },
    {
     "name": "stdout",
     "output_type": "stream",
     "text": [
      "Collecting emoji==1.6.1\n",
      "  Downloading emoji-1.6.1.tar.gz (170 kB)\n",
      "Building wheels for collected packages: emoji\n",
      "  Building wheel for emoji (setup.py): started\n",
      "  Building wheel for emoji (setup.py): finished with status 'done'\n",
      "  Created wheel for emoji: filename=emoji-1.6.1-py3-none-any.whl size=169294 sha256=65fd2a309bf18f75781981ae961920eb653deee5a58dd92a9ec1b55e8774c8c0\n",
      "  Stored in directory: c:\\users\\zd\\appdata\\local\\pip\\cache\\wheels\\6d\\32\\33\\4c6bb366a60f8f33654b6476d4357832165aa8abec715c7171\n",
      "Successfully built emoji\n",
      "Installing collected packages: emoji\n",
      "Successfully installed emoji-1.6.1\n",
      "Collecting sentencepiece==0.1.96\n",
      "  Downloading sentencepiece-0.1.96-cp36-cp36m-win_amd64.whl (1.1 MB)\n",
      "Installing collected packages: sentencepiece\n",
      "Successfully installed sentencepiece-0.1.96\n"
     ]
    }
   ],
   "source": [
    "!pip install transformers==4.12.2\n",
    "!pip install farasapy==0.0.14\n",
    "!pip install pyarabic==0.6.14\n",
    "!git clone https://github.com/aub-mind/arabert\n",
    "!pip install emoji==1.6.1\n",
    "!pip install sentencepiece==0.1.96"
   ]
  },
  {
   "cell_type": "markdown",
   "metadata": {},
   "source": [
    "# Importing the tools"
   ]
  },
  {
   "cell_type": "code",
   "execution_count": 26,
   "metadata": {},
   "outputs": [],
   "source": [
    "import numpy as np \n",
    "import pandas as pd \n",
    "import warnings\n",
    "warnings.filterwarnings(\"ignore\")\n",
    "\n",
    "import matplotlib.pyplot as plt\n",
    "import pandas\n",
    "import seaborn as sns \n",
    "\n",
    "from sklearn import preprocessing\n",
    "import nltk \n",
    "from nltk.corpus import stopwords\n",
    "from nltk.tokenize import word_tokenize\n",
    "from nltk.tokenize import RegexpTokenizer\n",
    "from collections import Counter \n",
    "import re\n",
    "import string\n",
    "import matplotlib.cm as cm\n",
    "from matplotlib import rcParams\n",
    "from sklearn.feature_extraction.text import TfidfVectorizer\n",
    "from sklearn import preprocessing\n",
    "from sklearn.model_selection import train_test_split\n",
    "\n",
    "import torch\n",
    "import random\n",
    "import copy\n",
    "\n",
    "from arabert.preprocess import ArabertPreprocessor\n",
    "\n",
    "from sklearn.metrics import (accuracy_score, classification_report,\n",
    "                             confusion_matrix, f1_score, precision_score,\n",
    "                             recall_score)\n",
    "\n",
    "from torch.utils.data import DataLoader, Dataset\n",
    "\n",
    "from transformers import (AutoConfig, AutoModelForSequenceClassification,\n",
    "                          AutoTokenizer, BertTokenizer, Trainer,\n",
    "                          TrainingArguments)\n",
    "\n",
    "from transformers.data.processors.utils import InputFeatures\n",
    "\n",
    "from termcolor import colored\n",
    "\n",
    "import torch\n",
    "%matplotlib inline"
   ]
  },
  {
   "cell_type": "markdown",
   "metadata": {},
   "source": [
    "# Read the Data"
   ]
  },
  {
   "cell_type": "code",
   "execution_count": 4,
   "metadata": {},
   "outputs": [
    {
     "data": {
      "text/html": [
       "<div>\n",
       "<style scoped>\n",
       "    .dataframe tbody tr th:only-of-type {\n",
       "        vertical-align: middle;\n",
       "    }\n",
       "\n",
       "    .dataframe tbody tr th {\n",
       "        vertical-align: top;\n",
       "    }\n",
       "\n",
       "    .dataframe thead th {\n",
       "        text-align: right;\n",
       "    }\n",
       "</style>\n",
       "<table border=\"1\" class=\"dataframe\">\n",
       "  <thead>\n",
       "    <tr style=\"text-align: right;\">\n",
       "      <th></th>\n",
       "      <th>id</th>\n",
       "      <th>dialect</th>\n",
       "      <th>Comment</th>\n",
       "    </tr>\n",
       "  </thead>\n",
       "  <tbody>\n",
       "    <tr>\n",
       "      <th>0</th>\n",
       "      <td>1175358310087892992</td>\n",
       "      <td>IQ</td>\n",
       "      <td>@Nw8ieJUwaCAAreT لكن بالنهاية .. ينتفض .. يغير .</td>\n",
       "    </tr>\n",
       "    <tr>\n",
       "      <th>1</th>\n",
       "      <td>1175416117793349632</td>\n",
       "      <td>IQ</td>\n",
       "      <td>@7zNqXP0yrODdRjK يعني هذا محسوب على البشر .. ح...</td>\n",
       "    </tr>\n",
       "    <tr>\n",
       "      <th>2</th>\n",
       "      <td>1175450108898565888</td>\n",
       "      <td>IQ</td>\n",
       "      <td>@KanaanRema مبين من كلامه خليجي</td>\n",
       "    </tr>\n",
       "    <tr>\n",
       "      <th>3</th>\n",
       "      <td>1175471073770573824</td>\n",
       "      <td>IQ</td>\n",
       "      <td>@HAIDER76128900 يسلملي مرورك وروحك الحلوه💐</td>\n",
       "    </tr>\n",
       "    <tr>\n",
       "      <th>4</th>\n",
       "      <td>1175496913145217024</td>\n",
       "      <td>IQ</td>\n",
       "      <td>@hmo2406 وين هل الغيبه  اخ محمد 🌸🌺</td>\n",
       "    </tr>\n",
       "    <tr>\n",
       "      <th>...</th>\n",
       "      <td>...</td>\n",
       "      <td>...</td>\n",
       "      <td>...</td>\n",
       "    </tr>\n",
       "    <tr>\n",
       "      <th>458192</th>\n",
       "      <td>1019484980282580992</td>\n",
       "      <td>BH</td>\n",
       "      <td>@Al_mhbaa_7 مبسوطين منك اللي باسطانا😅</td>\n",
       "    </tr>\n",
       "    <tr>\n",
       "      <th>458193</th>\n",
       "      <td>1021083283709407232</td>\n",
       "      <td>BH</td>\n",
       "      <td>@Zzainabali @P_ameerah والله ماينده ابش يختي</td>\n",
       "    </tr>\n",
       "    <tr>\n",
       "      <th>458194</th>\n",
       "      <td>1017477537889431552</td>\n",
       "      <td>BH</td>\n",
       "      <td>@Al_mhbaa_7 شو عملنا لك حنا تهربي مننا احنا مس...</td>\n",
       "    </tr>\n",
       "    <tr>\n",
       "      <th>458195</th>\n",
       "      <td>1022430374696239232</td>\n",
       "      <td>BH</td>\n",
       "      <td>@haneenalmwla الله يبارك فيها وبالعافيه 😋😋😋</td>\n",
       "    </tr>\n",
       "    <tr>\n",
       "      <th>458196</th>\n",
       "      <td>1022409931029458944</td>\n",
       "      <td>BH</td>\n",
       "      <td>@jolnar121 السحله ضيفي ي بتطلع لك سحليه😅😅</td>\n",
       "    </tr>\n",
       "  </tbody>\n",
       "</table>\n",
       "<p>458197 rows × 3 columns</p>\n",
       "</div>"
      ],
      "text/plain": [
       "                         id dialect  \\\n",
       "0       1175358310087892992      IQ   \n",
       "1       1175416117793349632      IQ   \n",
       "2       1175450108898565888      IQ   \n",
       "3       1175471073770573824      IQ   \n",
       "4       1175496913145217024      IQ   \n",
       "...                     ...     ...   \n",
       "458192  1019484980282580992      BH   \n",
       "458193  1021083283709407232      BH   \n",
       "458194  1017477537889431552      BH   \n",
       "458195  1022430374696239232      BH   \n",
       "458196  1022409931029458944      BH   \n",
       "\n",
       "                                                  Comment  \n",
       "0        @Nw8ieJUwaCAAreT لكن بالنهاية .. ينتفض .. يغير .  \n",
       "1       @7zNqXP0yrODdRjK يعني هذا محسوب على البشر .. ح...  \n",
       "2                         @KanaanRema مبين من كلامه خليجي  \n",
       "3              @HAIDER76128900 يسلملي مرورك وروحك الحلوه💐  \n",
       "4                      @hmo2406 وين هل الغيبه  اخ محمد 🌸🌺  \n",
       "...                                                   ...  \n",
       "458192              @Al_mhbaa_7 مبسوطين منك اللي باسطانا😅  \n",
       "458193       @Zzainabali @P_ameerah والله ماينده ابش يختي  \n",
       "458194  @Al_mhbaa_7 شو عملنا لك حنا تهربي مننا احنا مس...  \n",
       "458195        @haneenalmwla الله يبارك فيها وبالعافيه 😋😋😋  \n",
       "458196          @jolnar121 السحله ضيفي ي بتطلع لك سحليه😅😅  \n",
       "\n",
       "[458197 rows x 3 columns]"
      ]
     },
     "execution_count": 4,
     "metadata": {},
     "output_type": "execute_result"
    }
   ],
   "source": [
    "df = pd.read_csv(\"prepared.csv\",index_col=0)\n",
    "df"
   ]
  },
  {
   "cell_type": "markdown",
   "metadata": {},
   "source": [
    "# EDA"
   ]
  },
  {
   "cell_type": "code",
   "execution_count": 5,
   "metadata": {},
   "outputs": [
    {
     "data": {
      "image/png": "[encoded data removed]",
      "text/plain": [
       "<Figure size 720x360 with 1 Axes>"
      ]
     },
     "metadata": {
      "needs_background": "light"
     },
     "output_type": "display_data"
    }
   ],
   "source": [
    "plt.figure(figsize=(10,5))\n",
    "sns.countplot(data=df,x=\"dialect\");"
   ]
  },
  {
   "cell_type": "markdown",
   "metadata": {},
   "source": [
    "unbalanced classes detected whic can be solved by upper sampling or down sampling"
   ]
  },
  {
   "cell_type": "code",
   "execution_count": 6,
   "metadata": {},
   "outputs": [
    {
     "data": {
      "text/plain": [
       "EG    57636\n",
       "PL    43742\n",
       "KW    42109\n",
       "LY    36499\n",
       "QA    31069\n",
       "JO    27921\n",
       "LB    27617\n",
       "SA    26832\n",
       "AE    26296\n",
       "BH    26292\n",
       "OM    19116\n",
       "SY    16242\n",
       "DZ    16183\n",
       "IQ    15497\n",
       "SD    14434\n",
       "MA    11539\n",
       "YE     9927\n",
       "TN     9246\n",
       "Name: dialect, dtype: int64"
      ]
     },
     "execution_count": 6,
     "metadata": {},
     "output_type": "execute_result"
    }
   ],
   "source": [
    "df[\"dialect\"].value_counts()"
   ]
  },
  {
   "cell_type": "markdown",
   "metadata": {},
   "source": [
    "### show some comments to gain intiuation about the difference of each dialect comment "
   ]
  },
  {
   "cell_type": "code",
   "execution_count": 7,
   "metadata": {},
   "outputs": [
    {
     "name": "stdout",
     "output_type": "stream",
     "text": [
      "@Nw8ieJUwaCAAreT لكن بالنهاية .. ينتفض .. يغير . \u001b[31m=============> comment from\u001b[0m \u001b[34m IQ\n",
      "\u001b[0m\n",
      "@toha_Altomy @gy_yah قليلين ادب ومنافقين. لو اختهم او قريبتهم تتعاكس تقولي عليهم من نشاط حقوق المرأة من ردة فعلهم. \u001b[31m=============> comment from\u001b[0m \u001b[34m LY\n",
      "\u001b[0m\n",
      "@UAE_kalashinkov @monaalyafee @almayassahamad @TamimBinHamad @hamadjjalthani @saoud_k_althani @q6r @mohdalsuwaidi7 @m_aldhoori @YahyaSAltaleedi @damoa_alsamt @om_falah1 @bu_salem7279 @alasmari @Bu5alid87 @UAE1VIPAHMED @Dralnoaimi @bin_dhahii من شفتك حاط صورة ولد النعاشه النجس وانا غاسل يدي يالكوووور قطر عزها الله من دونكم يالسلق \u001b[31m=============> comment from\u001b[0m \u001b[34m QA\n",
      "\u001b[0m\n",
      "@Mi_Amore_Qtr @FahadBuzwair جمعتهم بالصرماية \n",
      "عصبن عن شارب عادل الجبير \u001b[31m=============> comment from\u001b[0m \u001b[34m PL\n",
      "\u001b[0m\n",
      "يخسى شارب من بغانا \n",
      "حنا للعليا سنام \n",
      "المراجل كار أهلنا \n",
      "وعزمنا دايم حديد \n",
      "لا نكل ولانمل \n",
      "ولاعرفنا يوم انهزام \n",
      "#درعا_مقبرة_الغزاة \n",
      "https://t.co/AsFxE6xN2j \u001b[31m=============> comment from\u001b[0m \u001b[34m SY\n",
      "\u001b[0m\n",
      "#ناس_بكري_قالوا\n",
      "\n",
      "طيح وشوف شكون يوقف معاك غيب وشوف شكون يسأل عليك و بعد غربل و صفي...!\n",
      "#مثل_شعبي_تونسي\n",
      "#تونس_المزيانة https://t.co/RZdrOzoCUi \u001b[31m=============> comment from\u001b[0m \u001b[34m TN\n",
      "\u001b[0m\n",
      "@alasal98 @rterdogan_ar الله الي بياخد\n",
      "او ممكن اردوغان 😂 \u001b[31m=============> comment from\u001b[0m \u001b[34m JO\n",
      "\u001b[0m\n",
      "@saadia_s3ada احلى شي صوتي و انا عارفاه 😂😂😂😂 \u001b[31m=============> comment from\u001b[0m \u001b[34m MA\n",
      "\u001b[0m\n",
      "@ItcSaaed @AreejAlharbiy24 سعيد قررت اروح تركيا يومين وبعدين المغرب شهرين \u001b[31m=============> comment from\u001b[0m \u001b[34m SA\n",
      "\u001b[0m\n",
      "@9v56CwqSU0x0yb @yas_wh الله يسلمك يا أحمد تسلم \u001b[31m=============> comment from\u001b[0m \u001b[34m YE\n",
      "\u001b[0m\n",
      "@Sharehanart يمه الزين 😍 ربي يحفظك 😘😘 \u001b[31m=============> comment from\u001b[0m \u001b[34m DZ\n",
      "\u001b[0m\n",
      "الاقيش معاك 25 الف يا عم نجيب قرض حسن ابدا بيهم حلمي وهسدهم على 25 شهر ولو عاوز تشاركني هسدهم بارضو وتبقى شريك بالربع ؟\n",
      "@NaguibSawiris \u001b[31m=============> comment from\u001b[0m \u001b[34m EG\n",
      "\u001b[0m\n",
      "@naif_su جيد أنه أعجبك وهنيئا لك \n",
      "والناس يختلفون في الأذواق 😃 \u001b[31m=============> comment from\u001b[0m \u001b[34m LB\n",
      "\u001b[0m\n",
      "#الخميس_الونيس\n",
      "\n",
      "انتو ملاحظين أن الغلطان هالأيام هو اللي يزعل \u001b[31m=============> comment from\u001b[0m \u001b[34m KW\n",
      "\u001b[0m\n",
      "@alshahri_mohmed طمنا عليك و على الأهل في صوب و نواحيها \u001b[31m=============> comment from\u001b[0m \u001b[34m OM\n",
      "\u001b[0m\n",
      "@elhindiizz عرص و حتفضل عرص طول عمرك \u001b[31m=============> comment from\u001b[0m \u001b[34m SD\n",
      "\u001b[0m\n",
      "@Bushanain ياخي المدرب أختاره والمدرب دخله والمدرب بارك الخطوه ✋🏻... منو هم اللي دخلوه الاتحاد قصدك ..  هذا منتخب مش نادي بارك الله فيك ... \u001b[31m=============> comment from\u001b[0m \u001b[34m AE\n",
      "\u001b[0m\n",
      "@JAFFAR_ALAALI0 لا ابي اتعلم منك انت يا سيد المقاومة يا فارس يا همام يا بطل الساحات والميادين يا من اكلت السجون من عمرك يا من حملت روحك على كفك .. يا من يشهد له الدوار والساحات والميادين علمنا اكثر علمنا يا هزبر \u001b[31m=============> comment from\u001b[0m \u001b[34m BH\n",
      "\u001b[0m\n"
     ]
    }
   ],
   "source": [
    "for i in df.dialect.unique():\n",
    "    print(df[df[\"dialect\"]==i].iloc[0,-1],colored(\"=============> comment from\",\"red\"),colored(f\" {i}\\n\",\"blue\"))"
   ]
  },
  {
   "cell_type": "markdown",
   "metadata": {},
   "source": [
    "### Are there any nulls?"
   ]
  },
  {
   "cell_type": "code",
   "execution_count": 8,
   "metadata": {},
   "outputs": [
    {
     "data": {
      "text/plain": [
       "id         False\n",
       "dialect    False\n",
       "Comment    False\n",
       "dtype: bool"
      ]
     },
     "execution_count": 8,
     "metadata": {},
     "output_type": "execute_result"
    }
   ],
   "source": [
    "df.isnull().any()"
   ]
  },
  {
   "cell_type": "markdown",
   "metadata": {},
   "source": [
    "### are there any duplicates ?"
   ]
  },
  {
   "cell_type": "code",
   "execution_count": 9,
   "metadata": {},
   "outputs": [
    {
     "data": {
      "text/plain": [
       "False"
      ]
     },
     "execution_count": 9,
     "metadata": {},
     "output_type": "execute_result"
    }
   ],
   "source": [
    "df.duplicated().any()"
   ]
  },
  {
   "cell_type": "markdown",
   "metadata": {},
   "source": [
    "no null or duplicates exited so our data can't be affected by them"
   ]
  },
  {
   "cell_type": "markdown",
   "metadata": {},
   "source": [
    "# NLP"
   ]
  },
  {
   "cell_type": "code",
   "execution_count": 10,
   "metadata": {},
   "outputs": [],
   "source": [
    "# split train and test data\n",
    "train, test = train_test_split(\n",
    "    df, test_size=0.2, random_state=42)"
   ]
  },
  {
   "cell_type": "code",
   "execution_count": 11,
   "metadata": {},
   "outputs": [
    {
     "data": {
      "text/plain": [
       "['IQ',\n",
       " 'LY',\n",
       " 'QA',\n",
       " 'PL',\n",
       " 'SY',\n",
       " 'TN',\n",
       " 'JO',\n",
       " 'MA',\n",
       " 'SA',\n",
       " 'YE',\n",
       " 'DZ',\n",
       " 'EG',\n",
       " 'LB',\n",
       " 'KW',\n",
       " 'OM',\n",
       " 'SD',\n",
       " 'AE',\n",
       " 'BH']"
      ]
     },
     "execution_count": 11,
     "metadata": {},
     "output_type": "execute_result"
    }
   ],
   "source": [
    "# store all dialect label in a list for futher usage\n",
    "label_list = list(df[\"dialect\"].unique())\n",
    "label_list"
   ]
  },
  {
   "cell_type": "markdown",
   "metadata": {},
   "source": [
    "## Preprocess data¶"
   ]
  },
  {
   "cell_type": "code",
   "execution_count": 12,
   "metadata": {},
   "outputs": [],
   "source": [
    "class CustomDataset:\n",
    "    def __init__(\n",
    "        self,\n",
    "        name: str,\n",
    "        train: list([pd.DataFrame]),\n",
    "        test: list([pd.DataFrame]),\n",
    "        label_list: list([str]),\n",
    "    ):\n",
    "        \"\"\"Class to hold and structure datasets.\n",
    "\n",
    "        Args:\n",
    "\n",
    "        name (str): holds the name of the dataset so we can select it later\n",
    "        train (List[pd.DataFrame]): holds training pandas dataframe with 2 columns [\"text\",\"label\"]\n",
    "        test (List[pd.DataFrame]): holds testing pandas dataframe with 2 columns [\"text\",\"label\"]\n",
    "        label_list (List[str]): holds the list  of labels\n",
    "        \"\"\"\n",
    "        self.name = name\n",
    "        self.train = train\n",
    "        self.test = test\n",
    "        self.label_list = label_list"
   ]
  },
  {
   "cell_type": "code",
   "execution_count": 13,
   "metadata": {},
   "outputs": [],
   "source": [
    "all_datasets=[]\n",
    "datal = CustomDataset(\n",
    "    \"data\", train, test, label_list\n",
    ")\n",
    "\n",
    "all_datasets.append(datal)"
   ]
  },
  {
   "cell_type": "code",
   "execution_count": 15,
   "metadata": {},
   "outputs": [
    {
     "data": {
      "text/html": [
       "<div>\n",
       "<style scoped>\n",
       "    .dataframe tbody tr th:only-of-type {\n",
       "        vertical-align: middle;\n",
       "    }\n",
       "\n",
       "    .dataframe tbody tr th {\n",
       "        vertical-align: top;\n",
       "    }\n",
       "\n",
       "    .dataframe thead th {\n",
       "        text-align: right;\n",
       "    }\n",
       "</style>\n",
       "<table border=\"1\" class=\"dataframe\">\n",
       "  <thead>\n",
       "    <tr style=\"text-align: right;\">\n",
       "      <th></th>\n",
       "      <th>id</th>\n",
       "      <th>dialect</th>\n",
       "      <th>Comment</th>\n",
       "    </tr>\n",
       "  </thead>\n",
       "  <tbody>\n",
       "    <tr>\n",
       "      <th>0</th>\n",
       "      <td>1175358310087892992</td>\n",
       "      <td>IQ</td>\n",
       "      <td>@Nw8ieJUwaCAAreT لكن بالنهاية .. ينتفض .. يغير .</td>\n",
       "    </tr>\n",
       "    <tr>\n",
       "      <th>1</th>\n",
       "      <td>1175416117793349632</td>\n",
       "      <td>IQ</td>\n",
       "      <td>@7zNqXP0yrODdRjK يعني هذا محسوب على البشر .. ح...</td>\n",
       "    </tr>\n",
       "    <tr>\n",
       "      <th>2</th>\n",
       "      <td>1175450108898565888</td>\n",
       "      <td>IQ</td>\n",
       "      <td>@KanaanRema مبين من كلامه خليجي</td>\n",
       "    </tr>\n",
       "    <tr>\n",
       "      <th>3</th>\n",
       "      <td>1175471073770573824</td>\n",
       "      <td>IQ</td>\n",
       "      <td>@HAIDER76128900 يسلملي مرورك وروحك الحلوه💐</td>\n",
       "    </tr>\n",
       "    <tr>\n",
       "      <th>4</th>\n",
       "      <td>1175496913145217024</td>\n",
       "      <td>IQ</td>\n",
       "      <td>@hmo2406 وين هل الغيبه  اخ محمد 🌸🌺</td>\n",
       "    </tr>\n",
       "    <tr>\n",
       "      <th>...</th>\n",
       "      <td>...</td>\n",
       "      <td>...</td>\n",
       "      <td>...</td>\n",
       "    </tr>\n",
       "    <tr>\n",
       "      <th>458192</th>\n",
       "      <td>1019484980282580992</td>\n",
       "      <td>BH</td>\n",
       "      <td>@Al_mhbaa_7 مبسوطين منك اللي باسطانا😅</td>\n",
       "    </tr>\n",
       "    <tr>\n",
       "      <th>458193</th>\n",
       "      <td>1021083283709407232</td>\n",
       "      <td>BH</td>\n",
       "      <td>@Zzainabali @P_ameerah والله ماينده ابش يختي</td>\n",
       "    </tr>\n",
       "    <tr>\n",
       "      <th>458194</th>\n",
       "      <td>1017477537889431552</td>\n",
       "      <td>BH</td>\n",
       "      <td>@Al_mhbaa_7 شو عملنا لك حنا تهربي مننا احنا مس...</td>\n",
       "    </tr>\n",
       "    <tr>\n",
       "      <th>458195</th>\n",
       "      <td>1022430374696239232</td>\n",
       "      <td>BH</td>\n",
       "      <td>@haneenalmwla الله يبارك فيها وبالعافيه 😋😋😋</td>\n",
       "    </tr>\n",
       "    <tr>\n",
       "      <th>458196</th>\n",
       "      <td>1022409931029458944</td>\n",
       "      <td>BH</td>\n",
       "      <td>@jolnar121 السحله ضيفي ي بتطلع لك سحليه😅😅</td>\n",
       "    </tr>\n",
       "  </tbody>\n",
       "</table>\n",
       "<p>458197 rows × 3 columns</p>\n",
       "</div>"
      ],
      "text/plain": [
       "                         id dialect  \\\n",
       "0       1175358310087892992      IQ   \n",
       "1       1175416117793349632      IQ   \n",
       "2       1175450108898565888      IQ   \n",
       "3       1175471073770573824      IQ   \n",
       "4       1175496913145217024      IQ   \n",
       "...                     ...     ...   \n",
       "458192  1019484980282580992      BH   \n",
       "458193  1021083283709407232      BH   \n",
       "458194  1017477537889431552      BH   \n",
       "458195  1022430374696239232      BH   \n",
       "458196  1022409931029458944      BH   \n",
       "\n",
       "                                                  Comment  \n",
       "0        @Nw8ieJUwaCAAreT لكن بالنهاية .. ينتفض .. يغير .  \n",
       "1       @7zNqXP0yrODdRjK يعني هذا محسوب على البشر .. ح...  \n",
       "2                         @KanaanRema مبين من كلامه خليجي  \n",
       "3              @HAIDER76128900 يسلملي مرورك وروحك الحلوه💐  \n",
       "4                      @hmo2406 وين هل الغيبه  اخ محمد 🌸🌺  \n",
       "...                                                   ...  \n",
       "458192              @Al_mhbaa_7 مبسوطين منك اللي باسطانا😅  \n",
       "458193       @Zzainabali @P_ameerah والله ماينده ابش يختي  \n",
       "458194  @Al_mhbaa_7 شو عملنا لك حنا تهربي مننا احنا مس...  \n",
       "458195        @haneenalmwla الله يبارك فيها وبالعافيه 😋😋😋  \n",
       "458196          @jolnar121 السحله ضيفي ي بتطلع لك سحليه😅😅  \n",
       "\n",
       "[458197 rows x 3 columns]"
      ]
     },
     "execution_count": 15,
     "metadata": {},
     "output_type": "execute_result"
    }
   ],
   "source": [
    "df2=copy.deepcopy(df)\n",
    "df2"
   ]
  },
  {
   "cell_type": "code",
   "execution_count": 16,
   "metadata": {},
   "outputs": [
    {
     "data": {
      "text/html": [
       "<div>\n",
       "<style scoped>\n",
       "    .dataframe tbody tr th:only-of-type {\n",
       "        vertical-align: middle;\n",
       "    }\n",
       "\n",
       "    .dataframe tbody tr th {\n",
       "        vertical-align: top;\n",
       "    }\n",
       "\n",
       "    .dataframe thead th {\n",
       "        text-align: right;\n",
       "    }\n",
       "</style>\n",
       "<table border=\"1\" class=\"dataframe\">\n",
       "  <thead>\n",
       "    <tr style=\"text-align: right;\">\n",
       "      <th></th>\n",
       "      <th>id</th>\n",
       "      <th>dialect</th>\n",
       "      <th>Comment</th>\n",
       "    </tr>\n",
       "  </thead>\n",
       "  <tbody>\n",
       "    <tr>\n",
       "      <th>429058</th>\n",
       "      <td>1166523077959868416</td>\n",
       "      <td>AE</td>\n",
       "      <td>[مستخدم] وريني وفيدني كيف ممكن تحدد شو يشوفون ...</td>\n",
       "    </tr>\n",
       "    <tr>\n",
       "      <th>310251</th>\n",
       "      <td>1126192932090974208</td>\n",
       "      <td>LB</td>\n",
       "      <td>بتحس لبيعلق مع جريدة الاخبار متل اللي بيعلق مع...</td>\n",
       "    </tr>\n",
       "    <tr>\n",
       "      <th>177498</th>\n",
       "      <td>1114882184412827648</td>\n",
       "      <td>JO</td>\n",
       "      <td>مين مثلي بس إخلص أكل بقول يع مش زاكي وهوة بكون...</td>\n",
       "    </tr>\n",
       "    <tr>\n",
       "      <th>339590</th>\n",
       "      <td>1144697104218108032</td>\n",
       "      <td>KW</td>\n",
       "      <td>[مستخدم] [مستخدم] لكن ما يمنع أنك تقولها كدعاء...</td>\n",
       "    </tr>\n",
       "    <tr>\n",
       "      <th>363751</th>\n",
       "      <td>1172184850503229440</td>\n",
       "      <td>KW</td>\n",
       "      <td>[مستخدم] [مستخدم] [مستخدم] زين تسوين فيهم ينرف...</td>\n",
       "    </tr>\n",
       "    <tr>\n",
       "      <th>...</th>\n",
       "      <td>...</td>\n",
       "      <td>...</td>\n",
       "      <td>...</td>\n",
       "    </tr>\n",
       "    <tr>\n",
       "      <th>259178</th>\n",
       "      <td>932902979405008768</td>\n",
       "      <td>EG</td>\n",
       "      <td>انتوا ياخوانا حد يحبنا بقى عيب كده [رابط]</td>\n",
       "    </tr>\n",
       "    <tr>\n",
       "      <th>365838</th>\n",
       "      <td>726524867114373120</td>\n",
       "      <td>KW</td>\n",
       "      <td>[مستخدم] غازي القهيدي مظلوم مايستحق قلتوا كل ا...</td>\n",
       "    </tr>\n",
       "    <tr>\n",
       "      <th>131932</th>\n",
       "      <td>1157595372795117568</td>\n",
       "      <td>SY</td>\n",
       "      <td>[مستخدم] من اتفه المطربين عملوها مطربه غصب وين...</td>\n",
       "    </tr>\n",
       "    <tr>\n",
       "      <th>146867</th>\n",
       "      <td>1156110669613342720</td>\n",
       "      <td>TN</td>\n",
       "      <td>واحد كيما # رضا _ شرف _ الدين متاع ليتوال ترشح...</td>\n",
       "    </tr>\n",
       "    <tr>\n",
       "      <th>121958</th>\n",
       "      <td>966239335476551552</td>\n",
       "      <td>PL</td>\n",
       "      <td>بقلك # عباس لما شاف مندوب # الاحتلال فزع ونهض ...</td>\n",
       "    </tr>\n",
       "  </tbody>\n",
       "</table>\n",
       "<p>366557 rows × 3 columns</p>\n",
       "</div>"
      ],
      "text/plain": [
       "                         id dialect  \\\n",
       "429058  1166523077959868416      AE   \n",
       "310251  1126192932090974208      LB   \n",
       "177498  1114882184412827648      JO   \n",
       "339590  1144697104218108032      KW   \n",
       "363751  1172184850503229440      KW   \n",
       "...                     ...     ...   \n",
       "259178   932902979405008768      EG   \n",
       "365838   726524867114373120      KW   \n",
       "131932  1157595372795117568      SY   \n",
       "146867  1156110669613342720      TN   \n",
       "121958   966239335476551552      PL   \n",
       "\n",
       "                                                  Comment  \n",
       "429058  [مستخدم] وريني وفيدني كيف ممكن تحدد شو يشوفون ...  \n",
       "310251  بتحس لبيعلق مع جريدة الاخبار متل اللي بيعلق مع...  \n",
       "177498  مين مثلي بس إخلص أكل بقول يع مش زاكي وهوة بكون...  \n",
       "339590  [مستخدم] [مستخدم] لكن ما يمنع أنك تقولها كدعاء...  \n",
       "363751  [مستخدم] [مستخدم] [مستخدم] زين تسوين فيهم ينرف...  \n",
       "...                                                   ...  \n",
       "259178          انتوا ياخوانا حد يحبنا بقى عيب كده [رابط]  \n",
       "365838  [مستخدم] غازي القهيدي مظلوم مايستحق قلتوا كل ا...  \n",
       "131932  [مستخدم] من اتفه المطربين عملوها مطربه غصب وين...  \n",
       "146867  واحد كيما # رضا _ شرف _ الدين متاع ليتوال ترشح...  \n",
       "121958  بقلك # عباس لما شاف مندوب # الاحتلال فزع ونهض ...  \n",
       "\n",
       "[366557 rows x 3 columns]"
      ]
     },
     "execution_count": 16,
     "metadata": {},
     "output_type": "execute_result"
    }
   ],
   "source": [
    "model_name = 'aubmindlab/bert-base-arabertv02-twitter'\n",
    "arabic_prep = ArabertPreprocessor(model_name)\n",
    "\n",
    "train[\"Comment\"] = train[\"Comment\"].apply(lambda x: arabic_prep.preprocess(x))\n",
    "test[\"Comment\"] = test[\"Comment\"].apply(lambda x: arabic_prep.preprocess(x))  \n",
    "\n",
    "train"
   ]
  },
  {
   "cell_type": "code",
   "execution_count": 17,
   "metadata": {},
   "outputs": [
    {
     "data": {
      "application/vnd.jupyter.widget-view+json": {
       "model_id": "4231d8dbae22494da74ace926b52d5bd",
       "version_major": 2,
       "version_minor": 0
      },
      "text/plain": [
       "Downloading:   0%|          | 0.00/476 [00:00<?, ?B/s]"
      ]
     },
     "metadata": {},
     "output_type": "display_data"
    },
    {
     "data": {
      "application/vnd.jupyter.widget-view+json": {
       "model_id": "14bf902ec05445089611ff7827fbda45",
       "version_major": 2,
       "version_minor": 0
      },
      "text/plain": [
       "Downloading:   0%|          | 0.00/733k [00:00<?, ?B/s]"
      ]
     },
     "metadata": {},
     "output_type": "display_data"
    },
    {
     "data": {
      "application/vnd.jupyter.widget-view+json": {
       "model_id": "c276472b5c064df9814172398c57d0e8",
       "version_major": 2,
       "version_minor": 0
      },
      "text/plain": [
       "Downloading:   0%|          | 0.00/1.19M [00:00<?, ?B/s]"
      ]
     },
     "metadata": {},
     "output_type": "display_data"
    },
    {
     "data": {
      "application/vnd.jupyter.widget-view+json": {
       "model_id": "2a14573d628f4c7bb38bca4ef384ad08",
       "version_major": 2,
       "version_minor": 0
      },
      "text/plain": [
       "Downloading:   0%|          | 0.00/112 [00:00<?, ?B/s]"
      ]
     },
     "metadata": {},
     "output_type": "display_data"
    }
   ],
   "source": [
    "tok = AutoTokenizer.from_pretrained(model_name)"
   ]
  },
  {
   "cell_type": "code",
   "execution_count": 18,
   "metadata": {},
   "outputs": [
    {
     "name": "stdout",
     "output_type": "stream",
     "text": [
      "Training Sentence Lengths: \n"
     ]
    },
    {
     "data": {
      "image/png": "[encoded data removed]",
      "text/plain": [
       "<Figure size 432x288 with 1 Axes>"
      ]
     },
     "metadata": {
      "needs_background": "light"
     },
     "output_type": "display_data"
    },
    {
     "name": "stdout",
     "output_type": "stream",
     "text": [
      "Testing Sentence Lengths: \n"
     ]
    },
    {
     "data": {
      "image/png": "[encoded data removed]",
      "text/plain": [
       "<Figure size 432x288 with 1 Axes>"
      ]
     },
     "metadata": {
      "needs_background": "light"
     },
     "output_type": "display_data"
    }
   ],
   "source": [
    "print(\"Training Sentence Lengths: \")\n",
    "plt.hist([ len(tok.tokenize(sentence)) for sentence in train[\"Comment\"].to_list()],bins=range(0,128,2))\n",
    "plt.show()\n",
    "\n",
    "print(\"Testing Sentence Lengths: \")\n",
    "plt.hist([ len(tok.tokenize(sentence)) for sentence in test[\"Comment\"].to_list()],bins=range(0,128,2))\n",
    "plt.show()"
   ]
  },
  {
   "cell_type": "markdown",
   "metadata": {},
   "source": [
    "Let's select 100 as our maximum sentence length, and check how many sequences will be truncated"
   ]
  },
  {
   "cell_type": "code",
   "execution_count": 20,
   "metadata": {},
   "outputs": [
    {
     "name": "stdout",
     "output_type": "stream",
     "text": [
      "Truncated training sequences:  69\n",
      "Truncated testing sequences:  21\n"
     ]
    }
   ],
   "source": [
    "print(\"Truncated training sequences: \", sum([len(tok.tokenize(sentence)) > max_len for sentence in train[\"Comment\"].to_list()]))\n",
    "\n",
    "print(\"Truncated testing sequences: \", sum([len(tok.tokenize(sentence)) > max_len for sentence in test[\"Comment\"].to_list()]))"
   ]
  },
  {
   "cell_type": "code",
   "execution_count": 25,
   "metadata": {},
   "outputs": [],
   "source": [
    "train.to_csv(\"train.csv\")\n",
    "test.to_csv(\"test.csv\")"
   ]
  }
 ],
 "metadata": {
  "kernelspec": {
   "display_name": "Python 3",
   "language": "python",
   "name": "python3"
  },
  "language_info": {
   "codemirror_mode": {
    "name": "ipython",
    "version": 3
   },
   "file_extension": ".py",
   "mimetype": "text/x-python",
   "name": "python",
   "nbconvert_exporter": "python",
   "pygments_lexer": "ipython3",
   "version": "3.6.5"
  }
 },
 "nbformat": 4,
 "nbformat_minor": 4
}
